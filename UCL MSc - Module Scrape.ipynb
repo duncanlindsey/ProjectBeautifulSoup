{
 "cells": [
  {
   "cell_type": "markdown",
   "metadata": {},
   "source": [
    "# UCL MSc - Module Scrape\n",
    "## Preamble\n",
    "Import modules"
   ]
  },
  {
   "cell_type": "code",
   "execution_count": 16,
   "metadata": {},
   "outputs": [],
   "source": [
    "import CompSciScrape as cs"
   ]
  },
  {
   "cell_type": "markdown",
   "metadata": {},
   "source": [
    "## Scraping the Computer Science Module Directory"
   ]
  },
  {
   "cell_type": "code",
   "execution_count": 15,
   "metadata": {},
   "outputs": [
    {
     "ename": "TypeError",
     "evalue": "parseModuleList() takes 1 positional argument but 2 were given",
     "output_type": "error",
     "traceback": [
      "\u001b[1;31m---------------------------------------------------------------------------\u001b[0m",
      "\u001b[1;31mTypeError\u001b[0m                                 Traceback (most recent call last)",
      "\u001b[1;32m<ipython-input-15-9c289b9cdb07>\u001b[0m in \u001b[0;36m<module>\u001b[1;34m()\u001b[0m\n\u001b[0;32m      7\u001b[0m \u001b[1;33m\u001b[0m\u001b[0m\n\u001b[0;32m      8\u001b[0m \u001b[1;31m# Find all module tags and parse modules into a pandas dataframe\u001b[0m\u001b[1;33m\u001b[0m\u001b[1;33m\u001b[0m\u001b[0m\n\u001b[1;32m----> 9\u001b[1;33m \u001b[0mmodules_directory\u001b[0m \u001b[1;33m=\u001b[0m \u001b[0mcs\u001b[0m\u001b[1;33m.\u001b[0m\u001b[0mparseModuleList\u001b[0m\u001b[1;33m(\u001b[0m\u001b[0mmodules_soup\u001b[0m\u001b[1;33m,\u001b[0m \u001b[0mparentURL\u001b[0m\u001b[1;33m)\u001b[0m\u001b[1;33m\u001b[0m\u001b[0m\n\u001b[0m\u001b[0;32m     10\u001b[0m \u001b[0mprint\u001b[0m\u001b[1;33m(\u001b[0m\u001b[0mmodules_directory\u001b[0m\u001b[1;33m)\u001b[0m\u001b[1;33m\u001b[0m\u001b[0m\n",
      "\u001b[1;31mTypeError\u001b[0m: parseModuleList() takes 1 positional argument but 2 were given"
     ]
    }
   ],
   "source": [
    "# Specify URL location of module directory\n",
    "parentURL = 'http://www.cs.ucl.ac.uk/'\n",
    "targetURL = 'http://www.cs.ucl.ac.uk/current_students/syllabus/pg/'\n",
    "\n",
    "# Collect soup\n",
    "modules_soup = cs.collectSoup(targetURL)\n",
    "\n",
    "# Find all module tags and parse modules into a pandas dataframe\n",
    "modules_directory = cs.parseModuleList(modules_soup, parentURL)\n",
    "print(modules_directory)\n"
   ]
  }
 ],
 "metadata": {
  "kernelspec": {
   "display_name": "Python 3",
   "language": "python",
   "name": "python3"
  },
  "language_info": {
   "codemirror_mode": {
    "name": "ipython",
    "version": 3
   },
   "file_extension": ".py",
   "mimetype": "text/x-python",
   "name": "python",
   "nbconvert_exporter": "python",
   "pygments_lexer": "ipython3",
   "version": "3.6.4"
  }
 },
 "nbformat": 4,
 "nbformat_minor": 2
}
