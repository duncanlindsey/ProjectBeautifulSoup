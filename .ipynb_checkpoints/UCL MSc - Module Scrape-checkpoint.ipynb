{
 "cells": [
  {
   "cell_type": "markdown",
   "metadata": {},
   "source": [
    "# UCL MSc - Module Scrape\n",
    "## Preamble\n",
    "Import modules"
   ]
  },
  {
   "cell_type": "code",
   "execution_count": 1,
   "metadata": {},
   "outputs": [],
   "source": [
    "import CompSciScrape as cs"
   ]
  },
  {
   "cell_type": "markdown",
   "metadata": {},
   "source": [
    "## Scraping the Computer Science Module Directory\n",
    "First, a database is made of all postgraduate modules listed in the Computer Science department's 2017/18 directory. Note, statistics courses were found not to be listed with detail on the UCL website. Only reading lists seem ubiquitous across modules from different departments."
   ]
  },
  {
   "cell_type": "code",
   "execution_count": 5,
   "metadata": {},
   "outputs": [
    {
     "data": {
      "text/html": [
       "<div>\n",
       "<style scoped>\n",
       "    .dataframe tbody tr th:only-of-type {\n",
       "        vertical-align: middle;\n",
       "    }\n",
       "\n",
       "    .dataframe tbody tr th {\n",
       "        vertical-align: top;\n",
       "    }\n",
       "\n",
       "    .dataframe thead th {\n",
       "        text-align: right;\n",
       "    }\n",
       "</style>\n",
       "<table border=\"1\" class=\"dataframe\">\n",
       "  <thead>\n",
       "    <tr style=\"text-align: right;\">\n",
       "      <th></th>\n",
       "      <th>Code</th>\n",
       "      <th>Module</th>\n",
       "      <th>Link</th>\n",
       "    </tr>\n",
       "  </thead>\n",
       "  <tbody>\n",
       "    <tr>\n",
       "      <th>0</th>\n",
       "      <td>COMPG001</td>\n",
       "      <td>Financial Data and Statistics</td>\n",
       "      <td>http://www.cs.ucl.ac.uk/current_students/sylla...</td>\n",
       "    </tr>\n",
       "    <tr>\n",
       "      <th>1</th>\n",
       "      <td>COMPG004</td>\n",
       "      <td>Market Risk Measures and Portfolio Theory</td>\n",
       "      <td>http://www.cs.ucl.ac.uk/current_students/sylla...</td>\n",
       "    </tr>\n",
       "    <tr>\n",
       "      <th>2</th>\n",
       "      <td>COMPG005</td>\n",
       "      <td>Numerical Analysis for Finance</td>\n",
       "      <td>http://www.cs.ucl.ac.uk/current_students/sylla...</td>\n",
       "    </tr>\n",
       "    <tr>\n",
       "      <th>3</th>\n",
       "      <td>COMPG007</td>\n",
       "      <td>Operational Risk Measurement for Financial Ins...</td>\n",
       "      <td>http://www.cs.ucl.ac.uk/current_students/sylla...</td>\n",
       "    </tr>\n",
       "    <tr>\n",
       "      <th>4</th>\n",
       "      <td>COMPG008</td>\n",
       "      <td>Stochastic Processes for Finance</td>\n",
       "      <td>http://www.cs.ucl.ac.uk/current_students/sylla...</td>\n",
       "    </tr>\n",
       "  </tbody>\n",
       "</table>\n",
       "</div>"
      ],
      "text/plain": [
       "       Code                                             Module  \\\n",
       "0  COMPG001                      Financial Data and Statistics   \n",
       "1  COMPG004          Market Risk Measures and Portfolio Theory   \n",
       "2  COMPG005                     Numerical Analysis for Finance   \n",
       "3  COMPG007  Operational Risk Measurement for Financial Ins...   \n",
       "4  COMPG008                   Stochastic Processes for Finance   \n",
       "\n",
       "                                                Link  \n",
       "0  http://www.cs.ucl.ac.uk/current_students/sylla...  \n",
       "1  http://www.cs.ucl.ac.uk/current_students/sylla...  \n",
       "2  http://www.cs.ucl.ac.uk/current_students/sylla...  \n",
       "3  http://www.cs.ucl.ac.uk/current_students/sylla...  \n",
       "4  http://www.cs.ucl.ac.uk/current_students/sylla...  "
      ]
     },
     "execution_count": 5,
     "metadata": {},
     "output_type": "execute_result"
    }
   ],
   "source": [
    "# Specify URL location of module directory\n",
    "parentURL = 'http://www.cs.ucl.ac.uk/'\n",
    "targetURL = 'http://www.cs.ucl.ac.uk/current_students/syllabus/pg/'\n",
    "\n",
    "# Collect soup\n",
    "modules_soup = cs.collectSoup(targetURL)\n",
    "\n",
    "# Find all module tags and parse modules into a pandas dataframe\n",
    "modules_directory = cs.parseModuleList(modules_soup, parentURL)\n",
    "modules_directory.head()"
   ]
  },
  {
   "cell_type": "markdown",
   "metadata": {},
   "source": [
    "## Loading the Target Modules List\n",
    "Secondly, a database of modules available on our target MSc courses is loaded."
   ]
  },
  {
   "cell_type": "code",
   "execution_count": 8,
   "metadata": {},
   "outputs": [
    {
     "data": {
      "text/html": [
       "<div>\n",
       "<style scoped>\n",
       "    .dataframe tbody tr th:only-of-type {\n",
       "        vertical-align: middle;\n",
       "    }\n",
       "\n",
       "    .dataframe tbody tr th {\n",
       "        vertical-align: top;\n",
       "    }\n",
       "\n",
       "    .dataframe thead th {\n",
       "        text-align: right;\n",
       "    }\n",
       "</style>\n",
       "<table border=\"1\" class=\"dataframe\">\n",
       "  <thead>\n",
       "    <tr style=\"text-align: right;\">\n",
       "      <th></th>\n",
       "      <th>Module</th>\n",
       "      <th>CS &amp; ML</th>\n",
       "      <th>ML</th>\n",
       "      <th>Type</th>\n",
       "    </tr>\n",
       "  </thead>\n",
       "  <tbody>\n",
       "    <tr>\n",
       "      <th>0</th>\n",
       "      <td>Supervised Learning</td>\n",
       "      <td>True</td>\n",
       "      <td>True</td>\n",
       "      <td>Core</td>\n",
       "    </tr>\n",
       "    <tr>\n",
       "      <th>1</th>\n",
       "      <td>Statistical Modelling and Data Analysis</td>\n",
       "      <td>True</td>\n",
       "      <td>False</td>\n",
       "      <td>Core</td>\n",
       "    </tr>\n",
       "    <tr>\n",
       "      <th>2</th>\n",
       "      <td>Graphical Models</td>\n",
       "      <td>True</td>\n",
       "      <td>True</td>\n",
       "      <td>Group One</td>\n",
       "    </tr>\n",
       "    <tr>\n",
       "      <th>3</th>\n",
       "      <td>Probabilistic and Unsupervised Learning</td>\n",
       "      <td>True</td>\n",
       "      <td>True</td>\n",
       "      <td>Group One</td>\n",
       "    </tr>\n",
       "    <tr>\n",
       "      <th>4</th>\n",
       "      <td>Advanced Deep Learning and Reinforcement Learning</td>\n",
       "      <td>True</td>\n",
       "      <td>True</td>\n",
       "      <td>Group Two</td>\n",
       "    </tr>\n",
       "  </tbody>\n",
       "</table>\n",
       "</div>"
      ],
      "text/plain": [
       "                                              Module  CS & ML     ML  \\\n",
       "0                                Supervised Learning     True   True   \n",
       "1            Statistical Modelling and Data Analysis     True  False   \n",
       "2                                   Graphical Models     True   True   \n",
       "3            Probabilistic and Unsupervised Learning     True   True   \n",
       "4  Advanced Deep Learning and Reinforcement Learning     True   True   \n",
       "\n",
       "        Type  \n",
       "0       Core  \n",
       "1       Core  \n",
       "2  Group One  \n",
       "3  Group One  \n",
       "4  Group Two  "
      ]
     },
     "execution_count": 8,
     "metadata": {},
     "output_type": "execute_result"
    }
   ],
   "source": [
    "# Specify file location of CSV\n",
    "file = 'TargetModules.csv'\n",
    "\n",
    "# Read CSV file to pandas dataframe\n",
    "modules_targets = cs.loadCSV(file)\n",
    "modules_targets.head()"
   ]
  }
 ],
 "metadata": {
  "kernelspec": {
   "display_name": "Python 3",
   "language": "python",
   "name": "python3"
  },
  "language_info": {
   "codemirror_mode": {
    "name": "ipython",
    "version": 3
   },
   "file_extension": ".py",
   "mimetype": "text/x-python",
   "name": "python",
   "nbconvert_exporter": "python",
   "pygments_lexer": "ipython3",
   "version": "3.6.4"
  }
 },
 "nbformat": 4,
 "nbformat_minor": 2
}
